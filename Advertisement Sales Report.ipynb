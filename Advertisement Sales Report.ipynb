{
 "cells": [
  {
   "cell_type": "code",
   "execution_count": 1,
   "id": "2679807d",
   "metadata": {},
   "outputs": [],
   "source": [
    "import pandas as pd\n",
    "import numpy as np\n",
    "import matplotlib.pyplot as plt\n",
    "%matplotlib inline\n",
    "import seaborn as sns\n",
    "import warnings\n",
    "\n",
    "warnings.filterwarnings('ignore')"
   ]
  },
  {
   "cell_type": "code",
   "execution_count": 2,
   "id": "ba453d98",
   "metadata": {},
   "outputs": [],
   "source": [
    "df = pd.read_csv(\"https://raw.githubusercontent.com/dsrscientist/DSData/master/Advertising.csv\")"
   ]
  },
  {
   "cell_type": "code",
   "execution_count": 3,
   "id": "325d57b3",
   "metadata": {},
   "outputs": [
    {
     "data": {
      "text/html": [
       "<div>\n",
       "<style scoped>\n",
       "    .dataframe tbody tr th:only-of-type {\n",
       "        vertical-align: middle;\n",
       "    }\n",
       "\n",
       "    .dataframe tbody tr th {\n",
       "        vertical-align: top;\n",
       "    }\n",
       "\n",
       "    .dataframe thead th {\n",
       "        text-align: right;\n",
       "    }\n",
       "</style>\n",
       "<table border=\"1\" class=\"dataframe\">\n",
       "  <thead>\n",
       "    <tr style=\"text-align: right;\">\n",
       "      <th></th>\n",
       "      <th>Unnamed: 0</th>\n",
       "      <th>TV</th>\n",
       "      <th>radio</th>\n",
       "      <th>newspaper</th>\n",
       "      <th>sales</th>\n",
       "    </tr>\n",
       "  </thead>\n",
       "  <tbody>\n",
       "    <tr>\n",
       "      <th>0</th>\n",
       "      <td>1</td>\n",
       "      <td>230.1</td>\n",
       "      <td>37.8</td>\n",
       "      <td>69.2</td>\n",
       "      <td>22.1</td>\n",
       "    </tr>\n",
       "    <tr>\n",
       "      <th>1</th>\n",
       "      <td>2</td>\n",
       "      <td>44.5</td>\n",
       "      <td>39.3</td>\n",
       "      <td>45.1</td>\n",
       "      <td>10.4</td>\n",
       "    </tr>\n",
       "    <tr>\n",
       "      <th>2</th>\n",
       "      <td>3</td>\n",
       "      <td>17.2</td>\n",
       "      <td>45.9</td>\n",
       "      <td>69.3</td>\n",
       "      <td>9.3</td>\n",
       "    </tr>\n",
       "    <tr>\n",
       "      <th>3</th>\n",
       "      <td>4</td>\n",
       "      <td>151.5</td>\n",
       "      <td>41.3</td>\n",
       "      <td>58.5</td>\n",
       "      <td>18.5</td>\n",
       "    </tr>\n",
       "    <tr>\n",
       "      <th>4</th>\n",
       "      <td>5</td>\n",
       "      <td>180.8</td>\n",
       "      <td>10.8</td>\n",
       "      <td>58.4</td>\n",
       "      <td>12.9</td>\n",
       "    </tr>\n",
       "  </tbody>\n",
       "</table>\n",
       "</div>"
      ],
      "text/plain": [
       "   Unnamed: 0     TV  radio  newspaper  sales\n",
       "0           1  230.1   37.8       69.2   22.1\n",
       "1           2   44.5   39.3       45.1   10.4\n",
       "2           3   17.2   45.9       69.3    9.3\n",
       "3           4  151.5   41.3       58.5   18.5\n",
       "4           5  180.8   10.8       58.4   12.9"
      ]
     },
     "execution_count": 3,
     "metadata": {},
     "output_type": "execute_result"
    }
   ],
   "source": [
    "df.head()"
   ]
  },
  {
   "cell_type": "code",
   "execution_count": 4,
   "id": "de6d149a",
   "metadata": {},
   "outputs": [
    {
     "data": {
      "text/plain": [
       "(200, 5)"
      ]
     },
     "execution_count": 4,
     "metadata": {},
     "output_type": "execute_result"
    }
   ],
   "source": [
    "## Checking the shape the dataset\n",
    "df.shape"
   ]
  },
  {
   "cell_type": "code",
   "execution_count": 5,
   "id": "9da314a5",
   "metadata": {},
   "outputs": [
    {
     "data": {
      "text/plain": [
       "Unnamed: 0      int64\n",
       "TV            float64\n",
       "radio         float64\n",
       "newspaper     float64\n",
       "sales         float64\n",
       "dtype: object"
      ]
     },
     "execution_count": 5,
     "metadata": {},
     "output_type": "execute_result"
    }
   ],
   "source": [
    "## Checking datatype of dataset\n",
    "df.dtypes"
   ]
  },
  {
   "cell_type": "code",
   "execution_count": 6,
   "id": "c1be97e2",
   "metadata": {},
   "outputs": [
    {
     "data": {
      "text/plain": [
       "Unnamed: 0    200\n",
       "TV            190\n",
       "radio         167\n",
       "newspaper     172\n",
       "sales         121\n",
       "dtype: int64"
      ]
     },
     "execution_count": 6,
     "metadata": {},
     "output_type": "execute_result"
    }
   ],
   "source": [
    "df.nunique()"
   ]
  },
  {
   "cell_type": "code",
   "execution_count": 9,
   "id": "31aa0fd1",
   "metadata": {},
   "outputs": [
    {
     "name": "stdout",
     "output_type": "stream",
     "text": [
      "<class 'pandas.core.frame.DataFrame'>\n",
      "RangeIndex: 200 entries, 0 to 199\n",
      "Data columns (total 5 columns):\n",
      " #   Column      Non-Null Count  Dtype  \n",
      "---  ------      --------------  -----  \n",
      " 0   Unnamed: 0  200 non-null    int64  \n",
      " 1   TV          200 non-null    float64\n",
      " 2   radio       200 non-null    float64\n",
      " 3   newspaper   200 non-null    float64\n",
      " 4   sales       200 non-null    float64\n",
      "dtypes: float64(4), int64(1)\n",
      "memory usage: 7.9 KB\n"
     ]
    }
   ],
   "source": [
    "## Checking info for our dataset\n",
    "df.info()"
   ]
  },
  {
   "cell_type": "markdown",
   "id": "99e32aaa",
   "metadata": {},
   "source": [
    "Checking null values"
   ]
  },
  {
   "cell_type": "code",
   "execution_count": 7,
   "id": "e9d48775",
   "metadata": {},
   "outputs": [
    {
     "data": {
      "text/plain": [
       "Unnamed: 0    0\n",
       "TV            0\n",
       "radio         0\n",
       "newspaper     0\n",
       "sales         0\n",
       "dtype: int64"
      ]
     },
     "execution_count": 7,
     "metadata": {},
     "output_type": "execute_result"
    }
   ],
   "source": [
    "df.isnull().sum()"
   ]
  },
  {
   "cell_type": "markdown",
   "id": "aedb3b5a",
   "metadata": {},
   "source": [
    "# Dropping The columns:"
   ]
  },
  {
   "cell_type": "code",
   "execution_count": 12,
   "id": "bbfbc87e",
   "metadata": {},
   "outputs": [
    {
     "data": {
      "text/plain": [
       "Index(['Unnamed: 0', 'TV', 'radio', 'newspaper', 'sales'], dtype='object')"
      ]
     },
     "execution_count": 12,
     "metadata": {},
     "output_type": "execute_result"
    }
   ],
   "source": [
    "df.columns"
   ]
  },
  {
   "cell_type": "code",
   "execution_count": 13,
   "id": "8225fac2",
   "metadata": {},
   "outputs": [],
   "source": [
    "df_new=df"
   ]
  },
  {
   "cell_type": "code",
   "execution_count": 14,
   "id": "6e6cc00f",
   "metadata": {},
   "outputs": [
    {
     "data": {
      "text/plain": [
       "(200, 5)"
      ]
     },
     "execution_count": 14,
     "metadata": {},
     "output_type": "execute_result"
    }
   ],
   "source": [
    "df_new.shape"
   ]
  },
  {
   "cell_type": "code",
   "execution_count": 15,
   "id": "d2b8b904",
   "metadata": {},
   "outputs": [],
   "source": [
    "df_new=df.drop('Unnamed: 0', axis=1)"
   ]
  },
  {
   "cell_type": "code",
   "execution_count": 16,
   "id": "9380f48a",
   "metadata": {},
   "outputs": [
    {
     "data": {
      "text/plain": [
       "(200, 4)"
      ]
     },
     "execution_count": 16,
     "metadata": {},
     "output_type": "execute_result"
    }
   ],
   "source": [
    "df_new.shape"
   ]
  },
  {
   "cell_type": "code",
   "execution_count": 19,
   "id": "ecf20675",
   "metadata": {},
   "outputs": [
    {
     "data": {
      "text/plain": [
       "<AxesSubplot:>"
      ]
     },
     "execution_count": 19,
     "metadata": {},
     "output_type": "execute_result"
    },
    {
     "data": {
      "image/png": "[encoded data removed]",
      "text/plain": [
       "<Figure size 720x720 with 2 Axes>"
      ]
     },
     "metadata": {
      "needs_background": "light"
     },
     "output_type": "display_data"
    }
   ],
   "source": [
    "plt.figure(figsize=[10,10])\n",
    "sns.heatmap(df_new.isnull())"
   ]
  },
  {
   "cell_type": "markdown",
   "id": "f86817c7",
   "metadata": {},
   "source": [
    "No null value present in our dataset."
   ]
  },
  {
   "cell_type": "markdown",
   "id": "f081334e",
   "metadata": {},
   "source": [
    "# Statistical Description of Dataset"
   ]
  },
  {
   "cell_type": "code",
   "execution_count": 20,
   "id": "5341a3a4",
   "metadata": {},
   "outputs": [
    {
     "data": {
      "text/html": [
       "<div>\n",
       "<style scoped>\n",
       "    .dataframe tbody tr th:only-of-type {\n",
       "        vertical-align: middle;\n",
       "    }\n",
       "\n",
       "    .dataframe tbody tr th {\n",
       "        vertical-align: top;\n",
       "    }\n",
       "\n",
       "    .dataframe thead th {\n",
       "        text-align: right;\n",
       "    }\n",
       "</style>\n",
       "<table border=\"1\" class=\"dataframe\">\n",
       "  <thead>\n",
       "    <tr style=\"text-align: right;\">\n",
       "      <th></th>\n",
       "      <th>TV</th>\n",
       "      <th>radio</th>\n",
       "      <th>newspaper</th>\n",
       "      <th>sales</th>\n",
       "    </tr>\n",
       "  </thead>\n",
       "  <tbody>\n",
       "    <tr>\n",
       "      <th>count</th>\n",
       "      <td>200.000000</td>\n",
       "      <td>200.000000</td>\n",
       "      <td>200.000000</td>\n",
       "      <td>200.000000</td>\n",
       "    </tr>\n",
       "    <tr>\n",
       "      <th>mean</th>\n",
       "      <td>147.042500</td>\n",
       "      <td>23.264000</td>\n",
       "      <td>30.554000</td>\n",
       "      <td>14.022500</td>\n",
       "    </tr>\n",
       "    <tr>\n",
       "      <th>std</th>\n",
       "      <td>85.854236</td>\n",
       "      <td>14.846809</td>\n",
       "      <td>21.778621</td>\n",
       "      <td>5.217457</td>\n",
       "    </tr>\n",
       "    <tr>\n",
       "      <th>min</th>\n",
       "      <td>0.700000</td>\n",
       "      <td>0.000000</td>\n",
       "      <td>0.300000</td>\n",
       "      <td>1.600000</td>\n",
       "    </tr>\n",
       "    <tr>\n",
       "      <th>25%</th>\n",
       "      <td>74.375000</td>\n",
       "      <td>9.975000</td>\n",
       "      <td>12.750000</td>\n",
       "      <td>10.375000</td>\n",
       "    </tr>\n",
       "    <tr>\n",
       "      <th>50%</th>\n",
       "      <td>149.750000</td>\n",
       "      <td>22.900000</td>\n",
       "      <td>25.750000</td>\n",
       "      <td>12.900000</td>\n",
       "    </tr>\n",
       "    <tr>\n",
       "      <th>75%</th>\n",
       "      <td>218.825000</td>\n",
       "      <td>36.525000</td>\n",
       "      <td>45.100000</td>\n",
       "      <td>17.400000</td>\n",
       "    </tr>\n",
       "    <tr>\n",
       "      <th>max</th>\n",
       "      <td>296.400000</td>\n",
       "      <td>49.600000</td>\n",
       "      <td>114.000000</td>\n",
       "      <td>27.000000</td>\n",
       "    </tr>\n",
       "  </tbody>\n",
       "</table>\n",
       "</div>"
      ],
      "text/plain": [
       "               TV       radio   newspaper       sales\n",
       "count  200.000000  200.000000  200.000000  200.000000\n",
       "mean   147.042500   23.264000   30.554000   14.022500\n",
       "std     85.854236   14.846809   21.778621    5.217457\n",
       "min      0.700000    0.000000    0.300000    1.600000\n",
       "25%     74.375000    9.975000   12.750000   10.375000\n",
       "50%    149.750000   22.900000   25.750000   12.900000\n",
       "75%    218.825000   36.525000   45.100000   17.400000\n",
       "max    296.400000   49.600000  114.000000   27.000000"
      ]
     },
     "execution_count": 20,
     "metadata": {},
     "output_type": "execute_result"
    }
   ],
   "source": [
    "## statistical Summary\n",
    "df_new.describe()"
   ]
  },
  {
   "cell_type": "markdown",
   "id": "8a29694e",
   "metadata": {},
   "source": [
    "Observation\n",
    "\n",
    "1- Our dataset seems to be normally distributed because mean and median values are nearly close to each other.\n",
    "\n",
    "2-There could be some outliers present in newspaper column because there is a compartively high difference between 3rd quantile and max values.\n",
    "\n",
    "3- Radio attribute has a minimum zero value in our dataset which could be part of further investigation in our dataset."
   ]
  },
  {
   "cell_type": "markdown",
   "id": "593d758b",
   "metadata": {},
   "source": [
    "# Correlation"
   ]
  },
  {
   "cell_type": "code",
   "execution_count": 21,
   "id": "ae68dc52",
   "metadata": {},
   "outputs": [
    {
     "data": {
      "text/html": [
       "<div>\n",
       "<style scoped>\n",
       "    .dataframe tbody tr th:only-of-type {\n",
       "        vertical-align: middle;\n",
       "    }\n",
       "\n",
       "    .dataframe tbody tr th {\n",
       "        vertical-align: top;\n",
       "    }\n",
       "\n",
       "    .dataframe thead th {\n",
       "        text-align: right;\n",
       "    }\n",
       "</style>\n",
       "<table border=\"1\" class=\"dataframe\">\n",
       "  <thead>\n",
       "    <tr style=\"text-align: right;\">\n",
       "      <th></th>\n",
       "      <th>TV</th>\n",
       "      <th>radio</th>\n",
       "      <th>newspaper</th>\n",
       "      <th>sales</th>\n",
       "    </tr>\n",
       "  </thead>\n",
       "  <tbody>\n",
       "    <tr>\n",
       "      <th>TV</th>\n",
       "      <td>1.000000</td>\n",
       "      <td>0.054809</td>\n",
       "      <td>0.056648</td>\n",
       "      <td>0.782224</td>\n",
       "    </tr>\n",
       "    <tr>\n",
       "      <th>radio</th>\n",
       "      <td>0.054809</td>\n",
       "      <td>1.000000</td>\n",
       "      <td>0.354104</td>\n",
       "      <td>0.576223</td>\n",
       "    </tr>\n",
       "    <tr>\n",
       "      <th>newspaper</th>\n",
       "      <td>0.056648</td>\n",
       "      <td>0.354104</td>\n",
       "      <td>1.000000</td>\n",
       "      <td>0.228299</td>\n",
       "    </tr>\n",
       "    <tr>\n",
       "      <th>sales</th>\n",
       "      <td>0.782224</td>\n",
       "      <td>0.576223</td>\n",
       "      <td>0.228299</td>\n",
       "      <td>1.000000</td>\n",
       "    </tr>\n",
       "  </tbody>\n",
       "</table>\n",
       "</div>"
      ],
      "text/plain": [
       "                 TV     radio  newspaper     sales\n",
       "TV         1.000000  0.054809   0.056648  0.782224\n",
       "radio      0.054809  1.000000   0.354104  0.576223\n",
       "newspaper  0.056648  0.354104   1.000000  0.228299\n",
       "sales      0.782224  0.576223   0.228299  1.000000"
      ]
     },
     "execution_count": 21,
     "metadata": {},
     "output_type": "execute_result"
    }
   ],
   "source": [
    "df_new.corr()"
   ]
  },
  {
   "cell_type": "code",
   "execution_count": 23,
   "id": "e50b0b12",
   "metadata": {},
   "outputs": [
    {
     "data": {
      "text/plain": [
       "<AxesSubplot:title={'center':'Correlation Heatmap'}>"
      ]
     },
     "execution_count": 23,
     "metadata": {},
     "output_type": "execute_result"
    },
    {
     "data": {
      "image/png": "[encoded data removed]",
      "text/plain": [
       "<Figure size 864x576 with 2 Axes>"
      ]
     },
     "metadata": {
      "needs_background": "light"
     },
     "output_type": "display_data"
    }
   ],
   "source": [
    "## Correlation Plot\n",
    "plt.figure(figsize=(12,8))\n",
    "plt.title('Correlation Heatmap',fontsize=15)\n",
    "sns.heatmap(df_new.corr(),annot=True,linewidths=.2)"
   ]
  },
  {
   "cell_type": "code",
   "execution_count": 24,
   "id": "5ee6088f",
   "metadata": {},
   "outputs": [
    {
     "data": {
      "text/plain": [
       "sales        1.000000\n",
       "TV           0.782224\n",
       "radio        0.576223\n",
       "newspaper    0.228299\n",
       "Name: sales, dtype: float64"
      ]
     },
     "execution_count": 24,
     "metadata": {},
     "output_type": "execute_result"
    }
   ],
   "source": [
    "## Correlation with target attribute\n",
    "df_new.corr()['sales'].sort_values(ascending=False)"
   ]
  },
  {
   "cell_type": "markdown",
   "id": "ab268ee2",
   "metadata": {},
   "source": [
    "Observation:-\n",
    "\n",
    "1- TV and radio has a strong and positive correlation with targer attribute.\n",
    "\n",
    "2-Newspaper and radio are correlated to each other."
   ]
  },
  {
   "cell_type": "code",
   "execution_count": 25,
   "id": "3269d5af",
   "metadata": {},
   "outputs": [
    {
     "data": {
      "text/plain": [
       "<AxesSubplot:title={'center':'Coreelation with Target'}>"
      ]
     },
     "execution_count": 25,
     "metadata": {},
     "output_type": "execute_result"
    },
    {
     "data": {
      "image/png": "[encoded data removed]",
      "text/plain": [
       "<Figure size 720x432 with 1 Axes>"
      ]
     },
     "metadata": {
      "needs_background": "light"
     },
     "output_type": "display_data"
    }
   ],
   "source": [
    "df_new.corr()['sales'].sort_values(ascending=False).drop(['sales']).plot.bar(figsize=(10,6),grid=True,title='Coreelation with Target',fontsize=15)"
   ]
  },
  {
   "cell_type": "markdown",
   "id": "57062524",
   "metadata": {},
   "source": [
    "observation:\n",
    "\n",
    "1- TV, Radio have correlation more that 50% with target variable."
   ]
  },
  {
   "cell_type": "markdown",
   "id": "b31db018",
   "metadata": {},
   "source": [
    "# Data Analysis and Visualization"
   ]
  },
  {
   "cell_type": "code",
   "execution_count": 30,
   "id": "ca06059b",
   "metadata": {},
   "outputs": [
    {
     "data": {
      "image/png": "[encoded data removed]",
      "text/plain": [
       "<Figure size 864x432 with 1 Axes>"
      ]
     },
     "metadata": {
      "needs_background": "light"
     },
     "output_type": "display_data"
    }
   ],
   "source": [
    "plt.figure(figsize=(12,6))\n",
    "plt.title('TV Advertising Vs Sales ',fontsize=15)\n",
    "sns.scatterplot(df_new['TV'],df_new['sales'],data=df_new)\n",
    "plt.show()"
   ]
  },
  {
   "cell_type": "markdown",
   "id": "53d87948",
   "metadata": {},
   "source": [
    "Observation\n",
    "\n",
    "1- There is a linear positive correlation between TV advertising and Sales.\n",
    "\n",
    "2- As Tv advertising inceases sales also increases."
   ]
  },
  {
   "cell_type": "code",
   "execution_count": 31,
   "id": "af4fddb5",
   "metadata": {},
   "outputs": [
    {
     "data": {
      "image/png": "[encoded data removed]",
      "text/plain": [
       "<Figure size 864x432 with 1 Axes>"
      ]
     },
     "metadata": {
      "needs_background": "light"
     },
     "output_type": "display_data"
    }
   ],
   "source": [
    "plt.figure(figsize=(12,6))\n",
    "plt.title('Newspaper Advertising Vs Sales ',fontsize=15)\n",
    "sns.scatterplot(df_new['newspaper'],df_new['sales'],data=df_new)\n",
    "plt.show()"
   ]
  },
  {
   "cell_type": "markdown",
   "id": "7d850fb1",
   "metadata": {},
   "source": [
    "Observation\n",
    "\n",
    "1- from above scatter plot we can see that there is a moderate realtionship with sales.\n",
    "\n",
    "2- Datapoints are scattered we can't conclude from this plot\n",
    "\n",
    "3-Some points are widly scattered."
   ]
  },
  {
   "cell_type": "code",
   "execution_count": 32,
   "id": "b2f26802",
   "metadata": {},
   "outputs": [
    {
     "data": {
      "image/png": "[encoded data removed]",
      "text/plain": [
       "<Figure size 864x432 with 1 Axes>"
      ]
     },
     "metadata": {
      "needs_background": "light"
     },
     "output_type": "display_data"
    }
   ],
   "source": [
    "plt.figure(figsize=(12,6))\n",
    "plt.title('radio Advertising Vs Sales ',fontsize=15)\n",
    "sns.scatterplot(df_new['radio'],df_new['sales'],data=df_new)\n",
    "plt.show()"
   ]
  },
  {
   "cell_type": "markdown",
   "id": "7e96bf88",
   "metadata": {},
   "source": [
    "Observation\n",
    "\n",
    "1- This plot shows a positive linear relation between radio advertising and sales.\n",
    "\n",
    "2- As radio advertising increases, sales also get increases."
   ]
  },
  {
   "cell_type": "code",
   "execution_count": 33,
   "id": "04aa1fd3",
   "metadata": {},
   "outputs": [
    {
     "data": {
      "text/plain": [
       "<seaborn.axisgrid.PairGrid at 0x2c8295b86a0>"
      ]
     },
     "execution_count": 33,
     "metadata": {},
     "output_type": "execute_result"
    },
    {
     "data": {
      "image/png": "[encoded data removed]",
      "text/plain": [
       "<Figure size 720x720 with 20 Axes>"
      ]
     },
     "metadata": {
      "needs_background": "light"
     },
     "output_type": "display_data"
    }
   ],
   "source": [
    "## Let's plot the pairplot for all the attributes together\n",
    "sns.pairplot(df_new)"
   ]
  },
  {
   "cell_type": "markdown",
   "id": "ac103218",
   "metadata": {},
   "source": [
    "# Distribution:"
   ]
  },
  {
   "cell_type": "code",
   "execution_count": 35,
   "id": "0760a692",
   "metadata": {},
   "outputs": [
    {
     "data": {
      "text/plain": [
       "array(['TV', 'radio', 'newspaper', 'sales'], dtype=object)"
      ]
     },
     "execution_count": 35,
     "metadata": {},
     "output_type": "execute_result"
    }
   ],
   "source": [
    "collist=df_new.columns.values\n",
    "collist"
   ]
  },
  {
   "cell_type": "code",
   "execution_count": 36,
   "id": "2ef1fecf",
   "metadata": {},
   "outputs": [
    {
     "data": {
      "image/png": "[encoded data removed]",
      "text/plain": [
       "<Figure size 2160x2160 with 4 Axes>"
      ]
     },
     "metadata": {
      "needs_background": "light"
     },
     "output_type": "display_data"
    }
   ],
   "source": [
    "plt.figure(figsize=(30,30))\n",
    "for i in range(0,len(collist)):\n",
    "    plt.subplot(10,10,i+1)\n",
    "    sns.distplot(df_new[collist[i]])"
   ]
  },
  {
   "cell_type": "markdown",
   "id": "f61b296f",
   "metadata": {},
   "source": [
    "Observation\n",
    "\n",
    "1- It shows that our dataset is approimately bell shaped in distribution means normally distributed.\n",
    "\n",
    "2- Newspaper attribute is a little right skewed.\n",
    "\n",
    "3- our target attribute is Normally distributed."
   ]
  },
  {
   "cell_type": "markdown",
   "id": "8ce3e26b",
   "metadata": {},
   "source": [
    "# Checking Outliers:"
   ]
  },
  {
   "cell_type": "code",
   "execution_count": 39,
   "id": "348efd9d",
   "metadata": {},
   "outputs": [
    {
     "data": {
      "image/png": "[encoded data removed]",
      "text/plain": [
       "<Figure size 432x432 with 1 Axes>"
      ]
     },
     "metadata": {
      "needs_background": "light"
     },
     "output_type": "display_data"
    }
   ],
   "source": [
    "plt.figure(figsize=(6,6))\n",
    "sns.boxplot(df_new['TV'])\n",
    "plt.show()"
   ]
  },
  {
   "cell_type": "code",
   "execution_count": 40,
   "id": "be736081",
   "metadata": {},
   "outputs": [
    {
     "data": {
      "image/png": "[encoded data removed]",
      "text/plain": [
       "<Figure size 432x432 with 1 Axes>"
      ]
     },
     "metadata": {
      "needs_background": "light"
     },
     "output_type": "display_data"
    }
   ],
   "source": [
    "plt.figure(figsize=(6,6))\n",
    "sns.boxplot(df_new['radio'])\n",
    "plt.show()"
   ]
  },
  {
   "cell_type": "code",
   "execution_count": 41,
   "id": "044a325e",
   "metadata": {},
   "outputs": [
    {
     "data": {
      "image/png": "[encoded data removed]",
      "text/plain": [
       "<Figure size 432x432 with 1 Axes>"
      ]
     },
     "metadata": {
      "needs_background": "light"
     },
     "output_type": "display_data"
    }
   ],
   "source": [
    "plt.figure(figsize=(6,6))\n",
    "sns.boxplot(df_new['newspaper'])\n",
    "plt.show()"
   ]
  },
  {
   "cell_type": "code",
   "execution_count": 42,
   "id": "0dc65a99",
   "metadata": {},
   "outputs": [
    {
     "data": {
      "image/png": "[encoded data removed]",
      "text/plain": [
       "<Figure size 432x432 with 1 Axes>"
      ]
     },
     "metadata": {
      "needs_background": "light"
     },
     "output_type": "display_data"
    }
   ],
   "source": [
    "plt.figure(figsize=(6,6))\n",
    "sns.boxplot(df_new['sales'])\n",
    "plt.show()"
   ]
  },
  {
   "cell_type": "markdown",
   "id": "dff76602",
   "metadata": {},
   "source": [
    "# handling Outliers:"
   ]
  },
  {
   "cell_type": "code",
   "execution_count": 55,
   "id": "c226f2fb",
   "metadata": {},
   "outputs": [],
   "source": [
    "def outlier_normally(df_new,col):\n",
    "    lower_boundary=df_new[col].mean()-3*df_new[col].std()\n",
    "    upper_boundary=df_new[col].mean()+3*df_new[col].std()\n",
    "    print(lower_boundary,upper_boundary)\n",
    "    df_new[col]=np.where((df_new[col]<lower_boundary)|(df_new[col]>upper_boundary),df_new[col].median(),df_new[col])\n",
    "    sns.boxplot(df_new[col])"
   ]
  },
  {
   "cell_type": "code",
   "execution_count": 56,
   "id": "90bbc60d",
   "metadata": {},
   "outputs": [
    {
     "name": "stdout",
     "output_type": "stream",
     "text": [
      "-34.7818625155685 95.8898625155685\n"
     ]
    },
    {
     "data": {
      "image/png": "[encoded data removed]",
      "text/plain": [
       "<Figure size 432x288 with 1 Axes>"
      ]
     },
     "metadata": {
      "needs_background": "light"
     },
     "output_type": "display_data"
    }
   ],
   "source": [
    "outlier_normally(df_new,'newspaper')"
   ]
  },
  {
   "cell_type": "markdown",
   "id": "cd0fd2f2",
   "metadata": {},
   "source": [
    "we have replaced the outliers with median , now there is no outliers present in our dataset.\n",
    "\n",
    "We can see that our dataset has no outliers present."
   ]
  },
  {
   "cell_type": "markdown",
   "id": "1d62c10d",
   "metadata": {},
   "source": [
    "# Skewness:"
   ]
  },
  {
   "cell_type": "code",
   "execution_count": 57,
   "id": "113737d4",
   "metadata": {},
   "outputs": [
    {
     "data": {
      "text/plain": [
       "TV          -0.069853\n",
       "radio        0.094175\n",
       "newspaper    0.658874\n",
       "sales        0.407571\n",
       "dtype: float64"
      ]
     },
     "execution_count": 57,
     "metadata": {},
     "output_type": "execute_result"
    }
   ],
   "source": [
    "df_new.skew()"
   ]
  },
  {
   "cell_type": "markdown",
   "id": "abda6524",
   "metadata": {},
   "source": [
    "We can see that for Newspaper attribute skewness is more than .5 so we will remove this with some transformation methods."
   ]
  },
  {
   "cell_type": "code",
   "execution_count": 59,
   "id": "f18c07e2",
   "metadata": {},
   "outputs": [],
   "source": [
    "df_new['newspaper']=np.sqrt(df_new['newspaper'])"
   ]
  },
  {
   "cell_type": "code",
   "execution_count": 60,
   "id": "2c688375",
   "metadata": {},
   "outputs": [
    {
     "data": {
      "text/plain": [
       "TV          -0.069853\n",
       "radio        0.094175\n",
       "newspaper   -0.040656\n",
       "sales        0.407571\n",
       "dtype: float64"
      ]
     },
     "execution_count": 60,
     "metadata": {},
     "output_type": "execute_result"
    }
   ],
   "source": [
    "df_new.skew()"
   ]
  },
  {
   "cell_type": "markdown",
   "id": "76e474ce",
   "metadata": {},
   "source": [
    "Now we can see that skewness is completly removed from our dataset."
   ]
  },
  {
   "cell_type": "markdown",
   "id": "20f4259a",
   "metadata": {},
   "source": [
    "# Splitting data into Input and Output Variable"
   ]
  },
  {
   "cell_type": "code",
   "execution_count": 61,
   "id": "67e07b4d",
   "metadata": {},
   "outputs": [],
   "source": [
    "x=df.drop(['Unnamed: 0','sales'],axis=1)\n",
    "y=df[['sales']]"
   ]
  },
  {
   "cell_type": "code",
   "execution_count": 62,
   "id": "f67cf075",
   "metadata": {},
   "outputs": [
    {
     "data": {
      "text/html": [
       "<div>\n",
       "<style scoped>\n",
       "    .dataframe tbody tr th:only-of-type {\n",
       "        vertical-align: middle;\n",
       "    }\n",
       "\n",
       "    .dataframe tbody tr th {\n",
       "        vertical-align: top;\n",
       "    }\n",
       "\n",
       "    .dataframe thead th {\n",
       "        text-align: right;\n",
       "    }\n",
       "</style>\n",
       "<table border=\"1\" class=\"dataframe\">\n",
       "  <thead>\n",
       "    <tr style=\"text-align: right;\">\n",
       "      <th></th>\n",
       "      <th>TV</th>\n",
       "      <th>radio</th>\n",
       "      <th>newspaper</th>\n",
       "    </tr>\n",
       "  </thead>\n",
       "  <tbody>\n",
       "    <tr>\n",
       "      <th>0</th>\n",
       "      <td>230.1</td>\n",
       "      <td>37.8</td>\n",
       "      <td>8.318654</td>\n",
       "    </tr>\n",
       "    <tr>\n",
       "      <th>1</th>\n",
       "      <td>44.5</td>\n",
       "      <td>39.3</td>\n",
       "      <td>6.715653</td>\n",
       "    </tr>\n",
       "    <tr>\n",
       "      <th>2</th>\n",
       "      <td>17.2</td>\n",
       "      <td>45.9</td>\n",
       "      <td>8.324662</td>\n",
       "    </tr>\n",
       "    <tr>\n",
       "      <th>3</th>\n",
       "      <td>151.5</td>\n",
       "      <td>41.3</td>\n",
       "      <td>7.648529</td>\n",
       "    </tr>\n",
       "    <tr>\n",
       "      <th>4</th>\n",
       "      <td>180.8</td>\n",
       "      <td>10.8</td>\n",
       "      <td>7.641989</td>\n",
       "    </tr>\n",
       "    <tr>\n",
       "      <th>...</th>\n",
       "      <td>...</td>\n",
       "      <td>...</td>\n",
       "      <td>...</td>\n",
       "    </tr>\n",
       "    <tr>\n",
       "      <th>195</th>\n",
       "      <td>38.2</td>\n",
       "      <td>3.7</td>\n",
       "      <td>3.714835</td>\n",
       "    </tr>\n",
       "    <tr>\n",
       "      <th>196</th>\n",
       "      <td>94.2</td>\n",
       "      <td>4.9</td>\n",
       "      <td>2.846050</td>\n",
       "    </tr>\n",
       "    <tr>\n",
       "      <th>197</th>\n",
       "      <td>177.0</td>\n",
       "      <td>9.3</td>\n",
       "      <td>2.529822</td>\n",
       "    </tr>\n",
       "    <tr>\n",
       "      <th>198</th>\n",
       "      <td>283.6</td>\n",
       "      <td>42.0</td>\n",
       "      <td>8.136338</td>\n",
       "    </tr>\n",
       "    <tr>\n",
       "      <th>199</th>\n",
       "      <td>232.1</td>\n",
       "      <td>8.6</td>\n",
       "      <td>2.949576</td>\n",
       "    </tr>\n",
       "  </tbody>\n",
       "</table>\n",
       "<p>200 rows × 3 columns</p>\n",
       "</div>"
      ],
      "text/plain": [
       "        TV  radio  newspaper\n",
       "0    230.1   37.8   8.318654\n",
       "1     44.5   39.3   6.715653\n",
       "2     17.2   45.9   8.324662\n",
       "3    151.5   41.3   7.648529\n",
       "4    180.8   10.8   7.641989\n",
       "..     ...    ...        ...\n",
       "195   38.2    3.7   3.714835\n",
       "196   94.2    4.9   2.846050\n",
       "197  177.0    9.3   2.529822\n",
       "198  283.6   42.0   8.136338\n",
       "199  232.1    8.6   2.949576\n",
       "\n",
       "[200 rows x 3 columns]"
      ]
     },
     "execution_count": 62,
     "metadata": {},
     "output_type": "execute_result"
    }
   ],
   "source": [
    "x"
   ]
  },
  {
   "cell_type": "code",
   "execution_count": 63,
   "id": "281a5897",
   "metadata": {},
   "outputs": [
    {
     "data": {
      "text/html": [
       "<div>\n",
       "<style scoped>\n",
       "    .dataframe tbody tr th:only-of-type {\n",
       "        vertical-align: middle;\n",
       "    }\n",
       "\n",
       "    .dataframe tbody tr th {\n",
       "        vertical-align: top;\n",
       "    }\n",
       "\n",
       "    .dataframe thead th {\n",
       "        text-align: right;\n",
       "    }\n",
       "</style>\n",
       "<table border=\"1\" class=\"dataframe\">\n",
       "  <thead>\n",
       "    <tr style=\"text-align: right;\">\n",
       "      <th></th>\n",
       "      <th>sales</th>\n",
       "    </tr>\n",
       "  </thead>\n",
       "  <tbody>\n",
       "    <tr>\n",
       "      <th>0</th>\n",
       "      <td>22.1</td>\n",
       "    </tr>\n",
       "    <tr>\n",
       "      <th>1</th>\n",
       "      <td>10.4</td>\n",
       "    </tr>\n",
       "    <tr>\n",
       "      <th>2</th>\n",
       "      <td>9.3</td>\n",
       "    </tr>\n",
       "    <tr>\n",
       "      <th>3</th>\n",
       "      <td>18.5</td>\n",
       "    </tr>\n",
       "    <tr>\n",
       "      <th>4</th>\n",
       "      <td>12.9</td>\n",
       "    </tr>\n",
       "    <tr>\n",
       "      <th>...</th>\n",
       "      <td>...</td>\n",
       "    </tr>\n",
       "    <tr>\n",
       "      <th>195</th>\n",
       "      <td>7.6</td>\n",
       "    </tr>\n",
       "    <tr>\n",
       "      <th>196</th>\n",
       "      <td>9.7</td>\n",
       "    </tr>\n",
       "    <tr>\n",
       "      <th>197</th>\n",
       "      <td>12.8</td>\n",
       "    </tr>\n",
       "    <tr>\n",
       "      <th>198</th>\n",
       "      <td>25.5</td>\n",
       "    </tr>\n",
       "    <tr>\n",
       "      <th>199</th>\n",
       "      <td>13.4</td>\n",
       "    </tr>\n",
       "  </tbody>\n",
       "</table>\n",
       "<p>200 rows × 1 columns</p>\n",
       "</div>"
      ],
      "text/plain": [
       "     sales\n",
       "0     22.1\n",
       "1     10.4\n",
       "2      9.3\n",
       "3     18.5\n",
       "4     12.9\n",
       "..     ...\n",
       "195    7.6\n",
       "196    9.7\n",
       "197   12.8\n",
       "198   25.5\n",
       "199   13.4\n",
       "\n",
       "[200 rows x 1 columns]"
      ]
     },
     "execution_count": 63,
     "metadata": {},
     "output_type": "execute_result"
    }
   ],
   "source": [
    "y"
   ]
  },
  {
   "cell_type": "markdown",
   "id": "adbb1e67",
   "metadata": {},
   "source": [
    "# Scaling DataSet:"
   ]
  },
  {
   "cell_type": "code",
   "execution_count": 64,
   "id": "f3713bae",
   "metadata": {},
   "outputs": [],
   "source": [
    "from sklearn.preprocessing import StandardScaler"
   ]
  },
  {
   "cell_type": "code",
   "execution_count": 67,
   "id": "0279f82a",
   "metadata": {},
   "outputs": [
    {
     "data": {
      "text/html": [
       "<div>\n",
       "<style scoped>\n",
       "    .dataframe tbody tr th:only-of-type {\n",
       "        vertical-align: middle;\n",
       "    }\n",
       "\n",
       "    .dataframe tbody tr th {\n",
       "        vertical-align: top;\n",
       "    }\n",
       "\n",
       "    .dataframe thead th {\n",
       "        text-align: right;\n",
       "    }\n",
       "</style>\n",
       "<table border=\"1\" class=\"dataframe\">\n",
       "  <thead>\n",
       "    <tr style=\"text-align: right;\">\n",
       "      <th></th>\n",
       "      <th>TV</th>\n",
       "      <th>radio</th>\n",
       "      <th>newspaper</th>\n",
       "    </tr>\n",
       "  </thead>\n",
       "  <tbody>\n",
       "    <tr>\n",
       "      <th>0</th>\n",
       "      <td>0.969852</td>\n",
       "      <td>0.981522</td>\n",
       "      <td>1.563095</td>\n",
       "    </tr>\n",
       "    <tr>\n",
       "      <th>1</th>\n",
       "      <td>-1.197376</td>\n",
       "      <td>1.082808</td>\n",
       "      <td>0.774855</td>\n",
       "    </tr>\n",
       "    <tr>\n",
       "      <th>2</th>\n",
       "      <td>-1.516155</td>\n",
       "      <td>1.528463</td>\n",
       "      <td>1.566049</td>\n",
       "    </tr>\n",
       "    <tr>\n",
       "      <th>3</th>\n",
       "      <td>0.052050</td>\n",
       "      <td>1.217855</td>\n",
       "      <td>1.233576</td>\n",
       "    </tr>\n",
       "    <tr>\n",
       "      <th>4</th>\n",
       "      <td>0.394182</td>\n",
       "      <td>-0.841614</td>\n",
       "      <td>1.230360</td>\n",
       "    </tr>\n",
       "    <tr>\n",
       "      <th>...</th>\n",
       "      <td>...</td>\n",
       "      <td>...</td>\n",
       "      <td>...</td>\n",
       "    </tr>\n",
       "    <tr>\n",
       "      <th>195</th>\n",
       "      <td>-1.270941</td>\n",
       "      <td>-1.321031</td>\n",
       "      <td>-0.700730</td>\n",
       "    </tr>\n",
       "    <tr>\n",
       "      <th>196</th>\n",
       "      <td>-0.617035</td>\n",
       "      <td>-1.240003</td>\n",
       "      <td>-1.127935</td>\n",
       "    </tr>\n",
       "    <tr>\n",
       "      <th>197</th>\n",
       "      <td>0.349810</td>\n",
       "      <td>-0.942899</td>\n",
       "      <td>-1.283433</td>\n",
       "    </tr>\n",
       "    <tr>\n",
       "      <th>198</th>\n",
       "      <td>1.594565</td>\n",
       "      <td>1.265121</td>\n",
       "      <td>1.473445</td>\n",
       "    </tr>\n",
       "    <tr>\n",
       "      <th>199</th>\n",
       "      <td>0.993206</td>\n",
       "      <td>-0.990165</td>\n",
       "      <td>-1.077029</td>\n",
       "    </tr>\n",
       "  </tbody>\n",
       "</table>\n",
       "<p>200 rows × 3 columns</p>\n",
       "</div>"
      ],
      "text/plain": [
       "           TV     radio  newspaper\n",
       "0    0.969852  0.981522   1.563095\n",
       "1   -1.197376  1.082808   0.774855\n",
       "2   -1.516155  1.528463   1.566049\n",
       "3    0.052050  1.217855   1.233576\n",
       "4    0.394182 -0.841614   1.230360\n",
       "..        ...       ...        ...\n",
       "195 -1.270941 -1.321031  -0.700730\n",
       "196 -0.617035 -1.240003  -1.127935\n",
       "197  0.349810 -0.942899  -1.283433\n",
       "198  1.594565  1.265121   1.473445\n",
       "199  0.993206 -0.990165  -1.077029\n",
       "\n",
       "[200 rows x 3 columns]"
      ]
     },
     "execution_count": 67,
     "metadata": {},
     "output_type": "execute_result"
    }
   ],
   "source": [
    "ss=StandardScaler()\n",
    "x_scaled=ss.fit_transform(x)\n",
    "x=pd.DataFrame(x_scaled,columns=x.columns)\n",
    "x"
   ]
  },
  {
   "cell_type": "markdown",
   "id": "0da844bc",
   "metadata": {},
   "source": [
    "# Feature Importance"
   ]
  },
  {
   "cell_type": "code",
   "execution_count": 68,
   "id": "b44448b8",
   "metadata": {},
   "outputs": [],
   "source": [
    "from sklearn.ensemble import ExtraTreesRegressor"
   ]
  },
  {
   "cell_type": "code",
   "execution_count": 71,
   "id": "8e514d17",
   "metadata": {},
   "outputs": [
    {
     "data": {
      "text/plain": [
       "ExtraTreesRegressor()"
      ]
     },
     "execution_count": 71,
     "metadata": {},
     "output_type": "execute_result"
    }
   ],
   "source": [
    "extra=ExtraTreesRegressor()\n",
    "extra.fit(x,y)"
   ]
  },
  {
   "cell_type": "code",
   "execution_count": 74,
   "id": "f036487f",
   "metadata": {},
   "outputs": [
    {
     "name": "stdout",
     "output_type": "stream",
     "text": [
      "[0.62260359 0.36998525 0.00741116]\n"
     ]
    }
   ],
   "source": [
    "print(extra.feature_importances_)"
   ]
  },
  {
   "cell_type": "code",
   "execution_count": 75,
   "id": "3ba52d6c",
   "metadata": {},
   "outputs": [
    {
     "data": {
      "image/png": "[encoded data removed]",
      "text/plain": [
       "<Figure size 1080x432 with 1 Axes>"
      ]
     },
     "metadata": {
      "needs_background": "light"
     },
     "output_type": "display_data"
    }
   ],
   "source": [
    "plt.figure(figsize=(15,6))\n",
    "plt.title('Important Features',fontsize=15)\n",
    "feat_importance=pd.Series(extra.feature_importances_,index=x.columns)\n",
    "feat_importance.nlargest().plot(kind='barh')\n",
    "plt.show()"
   ]
  },
  {
   "cell_type": "markdown",
   "id": "44463337",
   "metadata": {},
   "source": [
    "we can see that radio and TV are highly important features for our target column to predict the right sales price."
   ]
  },
  {
   "cell_type": "markdown",
   "id": "d38e2307",
   "metadata": {},
   "source": [
    "# Model Building"
   ]
  },
  {
   "cell_type": "code",
   "execution_count": 84,
   "id": "15ad9272",
   "metadata": {},
   "outputs": [],
   "source": [
    "## Importing machine learning Library\n",
    "from sklearn.linear_model import LinearRegression,Lasso,Ridge,ElasticNet\n",
    "from sklearn.tree import DecisionTreeRegressor\n",
    "from sklearn.naive_bayes import GaussianNB\n",
    "from sklearn.neighbors import KNeighborsRegressor\n",
    "from sklearn.ensemble import RandomForestRegressor\n",
    "from sklearn.metrics import mean_absolute_error,mean_squared_error,r2_score,accuracy_score\n",
    "from sklearn.model_selection import cross_val_score,GridSearchCV,train_test_split"
   ]
  },
  {
   "cell_type": "code",
   "execution_count": 96,
   "id": "d838f626",
   "metadata": {},
   "outputs": [],
   "source": [
    "def maxr2_score(clf,x,y):\n",
    "    maxr2_score1=0\n",
    "    for i in range(42,100):\n",
    "        x_train,x_test,y_train,y_test=train_test_split(x,y,test_size=.20,random_state=i)\n",
    "        clf.fit(x_train,y_train)\n",
    "        pred=clf.predict(x_test)\n",
    "        r2_cscore=r2_score(y_test,pred)\n",
    "        if r2_cscore>maxr2_score1:\n",
    "            maxr2_score1=r2_cscore\n",
    "            final_r=i\n",
    "    print('max r2 score corresponding to',final_r,'is',maxr2_score1)\n",
    "    print('cross validation score',cross_val_score(clf,x,y,scoring='r2').mean())\n",
    "    print('Standard Deviation',cross_val_score(clf,x,y,scoring='r2').std())\n",
    "    print('Training accuracy',clf.score(x_train,y_train))\n",
    "    print('Test Accuracy',clf.score(x_test,y_test))\n",
    "    print('MAE',mean_absolute_error(y_test,pred))\n",
    "    print('MSE',mean_squared_error(y_test,pred))\n",
    "    print('RMSE',np.sqrt(mean_squared_error(y_test,pred)))\n",
    "    \n",
    "    return final_r"
   ]
  },
  {
   "cell_type": "markdown",
   "id": "4b7e4941",
   "metadata": {},
   "source": [
    "# LinearRegression"
   ]
  },
  {
   "cell_type": "code",
   "execution_count": 97,
   "id": "d495391e",
   "metadata": {},
   "outputs": [
    {
     "name": "stdout",
     "output_type": "stream",
     "text": [
      "max r2 score corresponding to 92 is 0.9514095674628554\n",
      "cross validation score 0.8873331295445761\n",
      "Standard Deviation 0.039906735613166856\n",
      "Training accuracy 0.8908046377834327\n",
      "Test Accuracy 0.9189321197091166\n",
      "MAE 1.1591806007349394\n",
      "MSE 2.078102150164535\n",
      "RMSE 1.4415623989840103\n"
     ]
    },
    {
     "data": {
      "text/plain": [
       "92"
      ]
     },
     "execution_count": 97,
     "metadata": {},
     "output_type": "execute_result"
    }
   ],
   "source": [
    "lr=LinearRegression()\n",
    "maxr2_score(lr,x,y)"
   ]
  },
  {
   "cell_type": "markdown",
   "id": "5d17cd29",
   "metadata": {},
   "source": [
    "# Lasso Regression:"
   ]
  },
  {
   "cell_type": "code",
   "execution_count": 98,
   "id": "746985b3",
   "metadata": {},
   "outputs": [
    {
     "name": "stdout",
     "output_type": "stream",
     "text": [
      "max r2 score corresponding to 83 is 0.8616707145490253\n",
      "cross validation score 0.8175135660884789\n",
      "Standard Deviation 0.04816955790793658\n",
      "Training accuracy 0.8207247509119464\n",
      "Test Accuracy 0.8407357569037717\n",
      "MAE 1.4975447804611441\n",
      "MSE 4.082595533953025\n",
      "RMSE 2.0205433759147624\n"
     ]
    },
    {
     "data": {
      "text/plain": [
       "83"
      ]
     },
     "execution_count": 98,
     "metadata": {},
     "output_type": "execute_result"
    }
   ],
   "source": [
    "lasso=Lasso()\n",
    "maxr2_score(lasso,x,y)"
   ]
  },
  {
   "cell_type": "markdown",
   "id": "b0c8b5b6",
   "metadata": {},
   "source": [
    "# Ridge Regression:"
   ]
  },
  {
   "cell_type": "code",
   "execution_count": 99,
   "id": "c3e34177",
   "metadata": {},
   "outputs": [
    {
     "name": "stdout",
     "output_type": "stream",
     "text": [
      "max r2 score corresponding to 92 is 0.9511069380271034\n",
      "cross validation score 0.8873904144766908\n",
      "Standard Deviation 0.04032441548753263\n",
      "Training accuracy 0.8907728591577208\n",
      "Test Accuracy 0.9186935191737393\n",
      "MAE 1.163366702485645\n",
      "MSE 2.08421846014845\n",
      "RMSE 1.4436822573365824\n"
     ]
    },
    {
     "data": {
      "text/plain": [
       "92"
      ]
     },
     "execution_count": 99,
     "metadata": {},
     "output_type": "execute_result"
    }
   ],
   "source": [
    "ridge=Ridge()\n",
    "maxr2_score(ridge,x,y)"
   ]
  },
  {
   "cell_type": "markdown",
   "id": "9e21e71e",
   "metadata": {},
   "source": [
    "# Decision Tree Regressor"
   ]
  },
  {
   "cell_type": "code",
   "execution_count": 100,
   "id": "db1951e5",
   "metadata": {},
   "outputs": [
    {
     "name": "stdout",
     "output_type": "stream",
     "text": [
      "max r2 score corresponding to 75 is 0.974824190186631\n",
      "cross validation score 0.953313123897099\n",
      "Standard Deviation 0.005793825516798726\n",
      "Training accuracy 1.0\n",
      "Test Accuracy 0.9634861376057673\n",
      "MAE 0.7099999999999997\n",
      "MSE 0.9359999999999997\n",
      "RMSE 0.9674709297958258\n"
     ]
    },
    {
     "data": {
      "text/plain": [
       "75"
      ]
     },
     "execution_count": 100,
     "metadata": {},
     "output_type": "execute_result"
    }
   ],
   "source": [
    "dt=DecisionTreeRegressor()\n",
    "maxr2_score(dt,x,y)"
   ]
  },
  {
   "cell_type": "markdown",
   "id": "50921651",
   "metadata": {},
   "source": [
    "# KNN:"
   ]
  },
  {
   "cell_type": "code",
   "execution_count": 101,
   "id": "ccb7a664",
   "metadata": {},
   "outputs": [
    {
     "name": "stdout",
     "output_type": "stream",
     "text": [
      "max r2 score corresponding to 54 is 0.964334033458513\n",
      "cross validation score 0.9370596549659117\n",
      "Standard Deviation 0.02998064480963467\n",
      "Training accuracy 0.9536037681339353\n",
      "Test Accuracy 0.9230025629922642\n",
      "MAE 0.9130000000000003\n",
      "MSE 1.9737599999999993\n",
      "RMSE 1.404905690784972\n"
     ]
    },
    {
     "data": {
      "text/plain": [
       "54"
      ]
     },
     "execution_count": 101,
     "metadata": {},
     "output_type": "execute_result"
    }
   ],
   "source": [
    "knn=KNeighborsRegressor()\n",
    "maxr2_score(knn,x,y)"
   ]
  },
  {
   "cell_type": "markdown",
   "id": "4c5289f5",
   "metadata": {},
   "source": [
    "# Random Forest Regressor:"
   ]
  },
  {
   "cell_type": "code",
   "execution_count": 102,
   "id": "2b45d6eb",
   "metadata": {},
   "outputs": [
    {
     "name": "stdout",
     "output_type": "stream",
     "text": [
      "max r2 score corresponding to 47 is 0.9891461834927604\n",
      "cross validation score 0.9758996329171055\n",
      "Standard Deviation 0.00822466191644189\n",
      "Training accuracy 0.9961573601826594\n",
      "Test Accuracy 0.9845415520732149\n",
      "MAE 0.4752500000000028\n",
      "MSE 0.3962634000000028\n",
      "RMSE 0.6294945591504368\n"
     ]
    },
    {
     "data": {
      "text/plain": [
       "47"
      ]
     },
     "execution_count": 102,
     "metadata": {},
     "output_type": "execute_result"
    }
   ],
   "source": [
    "rf=RandomForestRegressor()\n",
    "maxr2_score(rf,x,y)"
   ]
  },
  {
   "cell_type": "markdown",
   "id": "5905fcee",
   "metadata": {},
   "source": [
    "# Conclusion:"
   ]
  },
  {
   "cell_type": "markdown",
   "id": "f5a109e2",
   "metadata": {},
   "source": [
    "From above results it is clear that Random Forest Regressor is our best model because the difference between R_2 score and Cross validation score is minimum which shows that our Model is not overfit and best among all.\n",
    "\n",
    "RandomForestRegressor:-\n",
    "                    \n",
    "                    \n",
    "                    1.R_2 score\t:- 98.90\n",
    "                    \n",
    "                    \n",
    "                    2.Cross_validation :- 97.59"
   ]
  },
  {
   "cell_type": "markdown",
   "id": "9e9945ac",
   "metadata": {},
   "source": [
    "# Hyperparameter Tuning for Random Forest Regressor:"
   ]
  },
  {
   "cell_type": "code",
   "execution_count": 103,
   "id": "4bfe9ee8",
   "metadata": {},
   "outputs": [
    {
     "data": {
      "text/plain": [
       "{'bootstrap': True, 'max_depth': 50, 'max_features': 3, 'n_estimators': 50}"
      ]
     },
     "execution_count": 103,
     "metadata": {},
     "output_type": "execute_result"
    }
   ],
   "source": [
    "x_train,x_test,y_train,y_test=train_test_split(x,y,random_state=48,test_size=.20)\n",
    "forest=RandomForestRegressor()\n",
    "param={'n_estimators':[50,100,200],'max_depth':[10,50,None],'max_features': [1,2,3],'bootstrap': [True, False]}\n",
    "glf=GridSearchCV(estimator=forest,param_grid=param,scoring='r2',n_jobs=-1)\n",
    "glf.fit(x_train,y_train)\n",
    "glf.best_params_"
   ]
  },
  {
   "cell_type": "code",
   "execution_count": 104,
   "id": "bd7ce3f3",
   "metadata": {},
   "outputs": [
    {
     "name": "stdout",
     "output_type": "stream",
     "text": [
      "Error\n",
      " Mean Absolute Error (MAE) : 0.5303115476190468\n",
      "Mean Squared Error (MSE) : 0.43551054583503246\n",
      "Root Mean Squared Error : 0.6599322282136496\n",
      "R_2 score: 0.9847663130728349\n"
     ]
    },
    {
     "data": {
      "text/plain": [
       "<AxesSubplot:ylabel='sales'>"
      ]
     },
     "execution_count": 104,
     "metadata": {},
     "output_type": "execute_result"
    },
    {
     "data": {
      "image/png": "[encoded data removed]",
      "text/plain": [
       "<Figure size 432x288 with 1 Axes>"
      ]
     },
     "metadata": {
      "needs_background": "light"
     },
     "output_type": "display_data"
    }
   ],
   "source": [
    "forest=RandomForestRegressor(bootstrap=True,max_depth=10,max_features=3,n_estimators=50)\n",
    "forest.fit(x_train,y_train)\n",
    "pred=forest.predict(x_test)\n",
    "print('Error')\n",
    "print(' Mean Absolute Error (MAE) :',mean_absolute_error(pred,y_test))\n",
    "print('Mean Squared Error (MSE) :',mean_squared_error(pred,y_test))\n",
    "print('Root Mean Squared Error :',np.sqrt(mean_squared_error(pred,y_test)))\n",
    "print('R_2 score:',r2_score(pred,y_test))\n",
    "## best fit line\n",
    "sns.regplot(pred,y_test,color='r')"
   ]
  },
  {
   "cell_type": "markdown",
   "id": "abf96f77",
   "metadata": {},
   "source": [
    "We can see that with Hyperparameter tuning our R_2 score is 98.57 which is improved hence we will save this as our best Model."
   ]
  },
  {
   "cell_type": "markdown",
   "id": "8fbce899",
   "metadata": {},
   "source": [
    "# Saving"
   ]
  },
  {
   "cell_type": "code",
   "execution_count": 108,
   "id": "6cca6ffb",
   "metadata": {},
   "outputs": [
    {
     "data": {
      "text/plain": [
       "['Advertisementsales.pkl']"
      ]
     },
     "execution_count": 108,
     "metadata": {},
     "output_type": "execute_result"
    }
   ],
   "source": [
    "import joblib\n",
    "joblib.dump(forest,'Advertisementsales.pkl')"
   ]
  },
  {
   "cell_type": "markdown",
   "id": "3f408313",
   "metadata": {},
   "source": [
    "# Loading Model"
   ]
  },
  {
   "cell_type": "code",
   "execution_count": 111,
   "id": "324dfc98",
   "metadata": {},
   "outputs": [],
   "source": [
    "loaded_model=joblib.load('Advertisementsales.pkl')\n",
    "prediction=loaded_model.predict(x_test)"
   ]
  }
 ],
 "metadata": {
  "kernelspec": {
   "display_name": "Python 3",
   "language": "python",
   "name": "python3"
  },
  "language_info": {
   "codemirror_mode": {
    "name": "ipython",
    "version": 3
   },
   "file_extension": ".py",
   "mimetype": "text/x-python",
   "name": "python",
   "nbconvert_exporter": "python",
   "pygments_lexer": "ipython3",
   "version": "3.8.8"
  }
 },
 "nbformat": 4,
 "nbformat_minor": 5
}
